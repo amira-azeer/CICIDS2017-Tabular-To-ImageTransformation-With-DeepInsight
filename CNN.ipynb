{
  "nbformat": 4,
  "nbformat_minor": 0,
  "metadata": {
    "colab": {
      "provenance": []
    },
    "kernelspec": {
      "display_name": "Python 3",
      "name": "python3"
    },
    "language_info": {
      "name": "python"
    }
  },
  "cells": [
    {
      "cell_type": "code",
      "metadata": {
        "id": "AAqiG9Hhx8k5",
        "colab": {
          "base_uri": "https://localhost:8080/"
        },
        "outputId": "afbba1ae-c4af-4c1b-807b-33ceca5e7336"
      },
      "source": [
        "!pip install -e git+https://github.com/CYHSM/DeepInsight.git#egg=DeepInsight"
      ],
      "execution_count": null,
      "outputs": [
        {
          "output_type": "stream",
          "name": "stdout",
          "text": [
            "Obtaining DeepInsight from git+https://github.com/CYHSM/DeepInsight.git#egg=DeepInsight\n",
            "  Cloning https://github.com/CYHSM/DeepInsight.git to ./src/deepinsight\n",
            "  Running command git clone -q https://github.com/CYHSM/DeepInsight.git /content/src/deepinsight\n",
            "Collecting tensorflow-gpu\n",
            "  Downloading tensorflow_gpu-2.6.0-cp37-cp37m-manylinux2010_x86_64.whl (458.3 MB)\n",
            "\u001b[K     |████████████████████████████████| 458.3 MB 11 kB/s \n",
            "\u001b[?25hRequirement already satisfied: numpy in /usr/local/lib/python3.7/dist-packages (from DeepInsight) (1.19.5)\n",
            "Requirement already satisfied: pandas in /usr/local/lib/python3.7/dist-packages (from DeepInsight) (1.1.5)\n",
            "Requirement already satisfied: joblib in /usr/local/lib/python3.7/dist-packages (from DeepInsight) (1.0.1)\n",
            "Requirement already satisfied: seaborn in /usr/local/lib/python3.7/dist-packages (from DeepInsight) (0.11.2)\n",
            "Requirement already satisfied: matplotlib in /usr/local/lib/python3.7/dist-packages (from DeepInsight) (3.2.2)\n",
            "Requirement already satisfied: h5py in /usr/local/lib/python3.7/dist-packages (from DeepInsight) (3.1.0)\n",
            "Requirement already satisfied: scipy in /usr/local/lib/python3.7/dist-packages (from DeepInsight) (1.4.1)\n",
            "Requirement already satisfied: ipython in /usr/local/lib/python3.7/dist-packages (from DeepInsight) (5.5.0)\n",
            "Requirement already satisfied: cached-property in /usr/local/lib/python3.7/dist-packages (from h5py->DeepInsight) (1.5.2)\n",
            "Requirement already satisfied: setuptools>=18.5 in /usr/local/lib/python3.7/dist-packages (from ipython->DeepInsight) (57.4.0)\n",
            "Requirement already satisfied: pygments in /usr/local/lib/python3.7/dist-packages (from ipython->DeepInsight) (2.6.1)\n",
            "Requirement already satisfied: decorator in /usr/local/lib/python3.7/dist-packages (from ipython->DeepInsight) (4.4.2)\n",
            "Requirement already satisfied: simplegeneric>0.8 in /usr/local/lib/python3.7/dist-packages (from ipython->DeepInsight) (0.8.1)\n",
            "Requirement already satisfied: traitlets>=4.2 in /usr/local/lib/python3.7/dist-packages (from ipython->DeepInsight) (5.1.0)\n",
            "Requirement already satisfied: pickleshare in /usr/local/lib/python3.7/dist-packages (from ipython->DeepInsight) (0.7.5)\n",
            "Requirement already satisfied: pexpect in /usr/local/lib/python3.7/dist-packages (from ipython->DeepInsight) (4.8.0)\n",
            "Requirement already satisfied: prompt-toolkit<2.0.0,>=1.0.4 in /usr/local/lib/python3.7/dist-packages (from ipython->DeepInsight) (1.0.18)\n",
            "Requirement already satisfied: wcwidth in /usr/local/lib/python3.7/dist-packages (from prompt-toolkit<2.0.0,>=1.0.4->ipython->DeepInsight) (0.2.5)\n",
            "Requirement already satisfied: six>=1.9.0 in /usr/local/lib/python3.7/dist-packages (from prompt-toolkit<2.0.0,>=1.0.4->ipython->DeepInsight) (1.15.0)\n",
            "Requirement already satisfied: kiwisolver>=1.0.1 in /usr/local/lib/python3.7/dist-packages (from matplotlib->DeepInsight) (1.3.2)\n",
            "Requirement already satisfied: pyparsing!=2.0.4,!=2.1.2,!=2.1.6,>=2.0.1 in /usr/local/lib/python3.7/dist-packages (from matplotlib->DeepInsight) (2.4.7)\n",
            "Requirement already satisfied: cycler>=0.10 in /usr/local/lib/python3.7/dist-packages (from matplotlib->DeepInsight) (0.10.0)\n",
            "Requirement already satisfied: python-dateutil>=2.1 in /usr/local/lib/python3.7/dist-packages (from matplotlib->DeepInsight) (2.8.2)\n",
            "Requirement already satisfied: pytz>=2017.2 in /usr/local/lib/python3.7/dist-packages (from pandas->DeepInsight) (2018.9)\n",
            "Requirement already satisfied: ptyprocess>=0.5 in /usr/local/lib/python3.7/dist-packages (from pexpect->ipython->DeepInsight) (0.7.0)\n",
            "Requirement already satisfied: opt-einsum~=3.3.0 in /usr/local/lib/python3.7/dist-packages (from tensorflow-gpu->DeepInsight) (3.3.0)\n",
            "Requirement already satisfied: clang~=5.0 in /usr/local/lib/python3.7/dist-packages (from tensorflow-gpu->DeepInsight) (5.0)\n",
            "Requirement already satisfied: grpcio<2.0,>=1.37.0 in /usr/local/lib/python3.7/dist-packages (from tensorflow-gpu->DeepInsight) (1.41.0)\n",
            "Requirement already satisfied: keras~=2.6 in /usr/local/lib/python3.7/dist-packages (from tensorflow-gpu->DeepInsight) (2.6.0)\n",
            "Requirement already satisfied: typing-extensions~=3.7.4 in /usr/local/lib/python3.7/dist-packages (from tensorflow-gpu->DeepInsight) (3.7.4.3)\n",
            "Requirement already satisfied: gast==0.4.0 in /usr/local/lib/python3.7/dist-packages (from tensorflow-gpu->DeepInsight) (0.4.0)\n",
            "Requirement already satisfied: absl-py~=0.10 in /usr/local/lib/python3.7/dist-packages (from tensorflow-gpu->DeepInsight) (0.12.0)\n",
            "Requirement already satisfied: google-pasta~=0.2 in /usr/local/lib/python3.7/dist-packages (from tensorflow-gpu->DeepInsight) (0.2.0)\n",
            "Requirement already satisfied: keras-preprocessing~=1.1.2 in /usr/local/lib/python3.7/dist-packages (from tensorflow-gpu->DeepInsight) (1.1.2)\n",
            "Requirement already satisfied: wheel~=0.35 in /usr/local/lib/python3.7/dist-packages (from tensorflow-gpu->DeepInsight) (0.37.0)\n",
            "Requirement already satisfied: tensorboard~=2.6 in /usr/local/lib/python3.7/dist-packages (from tensorflow-gpu->DeepInsight) (2.6.0)\n",
            "Requirement already satisfied: astunparse~=1.6.3 in /usr/local/lib/python3.7/dist-packages (from tensorflow-gpu->DeepInsight) (1.6.3)\n",
            "Requirement already satisfied: protobuf>=3.9.2 in /usr/local/lib/python3.7/dist-packages (from tensorflow-gpu->DeepInsight) (3.17.3)\n",
            "Requirement already satisfied: termcolor~=1.1.0 in /usr/local/lib/python3.7/dist-packages (from tensorflow-gpu->DeepInsight) (1.1.0)\n",
            "Requirement already satisfied: flatbuffers~=1.12.0 in /usr/local/lib/python3.7/dist-packages (from tensorflow-gpu->DeepInsight) (1.12)\n",
            "Requirement already satisfied: tensorflow-estimator~=2.6 in /usr/local/lib/python3.7/dist-packages (from tensorflow-gpu->DeepInsight) (2.6.0)\n",
            "Requirement already satisfied: wrapt~=1.12.1 in /usr/local/lib/python3.7/dist-packages (from tensorflow-gpu->DeepInsight) (1.12.1)\n",
            "Requirement already satisfied: google-auth<2,>=1.6.3 in /usr/local/lib/python3.7/dist-packages (from tensorboard~=2.6->tensorflow-gpu->DeepInsight) (1.35.0)\n",
            "Requirement already satisfied: requests<3,>=2.21.0 in /usr/local/lib/python3.7/dist-packages (from tensorboard~=2.6->tensorflow-gpu->DeepInsight) (2.23.0)\n",
            "Requirement already satisfied: tensorboard-plugin-wit>=1.6.0 in /usr/local/lib/python3.7/dist-packages (from tensorboard~=2.6->tensorflow-gpu->DeepInsight) (1.8.0)\n",
            "Requirement already satisfied: markdown>=2.6.8 in /usr/local/lib/python3.7/dist-packages (from tensorboard~=2.6->tensorflow-gpu->DeepInsight) (3.3.4)\n",
            "Requirement already satisfied: werkzeug>=0.11.15 in /usr/local/lib/python3.7/dist-packages (from tensorboard~=2.6->tensorflow-gpu->DeepInsight) (1.0.1)\n",
            "Requirement already satisfied: google-auth-oauthlib<0.5,>=0.4.1 in /usr/local/lib/python3.7/dist-packages (from tensorboard~=2.6->tensorflow-gpu->DeepInsight) (0.4.6)\n",
            "Requirement already satisfied: tensorboard-data-server<0.7.0,>=0.6.0 in /usr/local/lib/python3.7/dist-packages (from tensorboard~=2.6->tensorflow-gpu->DeepInsight) (0.6.1)\n",
            "Requirement already satisfied: pyasn1-modules>=0.2.1 in /usr/local/lib/python3.7/dist-packages (from google-auth<2,>=1.6.3->tensorboard~=2.6->tensorflow-gpu->DeepInsight) (0.2.8)\n",
            "Requirement already satisfied: cachetools<5.0,>=2.0.0 in /usr/local/lib/python3.7/dist-packages (from google-auth<2,>=1.6.3->tensorboard~=2.6->tensorflow-gpu->DeepInsight) (4.2.4)\n",
            "Requirement already satisfied: rsa<5,>=3.1.4 in /usr/local/lib/python3.7/dist-packages (from google-auth<2,>=1.6.3->tensorboard~=2.6->tensorflow-gpu->DeepInsight) (4.7.2)\n",
            "Requirement already satisfied: requests-oauthlib>=0.7.0 in /usr/local/lib/python3.7/dist-packages (from google-auth-oauthlib<0.5,>=0.4.1->tensorboard~=2.6->tensorflow-gpu->DeepInsight) (1.3.0)\n",
            "Requirement already satisfied: importlib-metadata in /usr/local/lib/python3.7/dist-packages (from markdown>=2.6.8->tensorboard~=2.6->tensorflow-gpu->DeepInsight) (4.8.1)\n",
            "Requirement already satisfied: pyasn1<0.5.0,>=0.4.6 in /usr/local/lib/python3.7/dist-packages (from pyasn1-modules>=0.2.1->google-auth<2,>=1.6.3->tensorboard~=2.6->tensorflow-gpu->DeepInsight) (0.4.8)\n",
            "Requirement already satisfied: idna<3,>=2.5 in /usr/local/lib/python3.7/dist-packages (from requests<3,>=2.21.0->tensorboard~=2.6->tensorflow-gpu->DeepInsight) (2.10)\n",
            "Requirement already satisfied: certifi>=2017.4.17 in /usr/local/lib/python3.7/dist-packages (from requests<3,>=2.21.0->tensorboard~=2.6->tensorflow-gpu->DeepInsight) (2021.5.30)\n",
            "Requirement already satisfied: urllib3!=1.25.0,!=1.25.1,<1.26,>=1.21.1 in /usr/local/lib/python3.7/dist-packages (from requests<3,>=2.21.0->tensorboard~=2.6->tensorflow-gpu->DeepInsight) (1.24.3)\n",
            "Requirement already satisfied: chardet<4,>=3.0.2 in /usr/local/lib/python3.7/dist-packages (from requests<3,>=2.21.0->tensorboard~=2.6->tensorflow-gpu->DeepInsight) (3.0.4)\n",
            "Requirement already satisfied: oauthlib>=3.0.0 in /usr/local/lib/python3.7/dist-packages (from requests-oauthlib>=0.7.0->google-auth-oauthlib<0.5,>=0.4.1->tensorboard~=2.6->tensorflow-gpu->DeepInsight) (3.1.1)\n",
            "Requirement already satisfied: zipp>=0.5 in /usr/local/lib/python3.7/dist-packages (from importlib-metadata->markdown>=2.6.8->tensorboard~=2.6->tensorflow-gpu->DeepInsight) (3.6.0)\n",
            "Installing collected packages: tensorflow-gpu, DeepInsight\n",
            "  Running setup.py develop for DeepInsight\n",
            "Successfully installed DeepInsight-0.5 tensorflow-gpu-2.6.0\n"
          ]
        }
      ]
    },
    {
      "cell_type": "code",
      "metadata": {
        "id": "pW-aq6r-2Hox",
        "colab": {
          "base_uri": "https://localhost:8080/"
        },
        "outputId": "90eecd51-2be6-405d-fa1b-e2bb664c31dc"
      },
      "source": [
        "!pip install git+https://github.com/CYHSM/wavelets"
      ],
      "execution_count": null,
      "outputs": [
        {
          "output_type": "stream",
          "name": "stdout",
          "text": [
            "Collecting git+https://github.com/CYHSM/wavelets\n",
            "  Cloning https://github.com/CYHSM/wavelets to /tmp/pip-req-build-7hs8vxaa\n",
            "  Running command git clone -q https://github.com/CYHSM/wavelets /tmp/pip-req-build-7hs8vxaa\n",
            "Building wheels for collected packages: wavelets\n",
            "  Building wheel for wavelets (setup.py) ... \u001b[?25l\u001b[?25hdone\n",
            "  Created wheel for wavelets: filename=wavelets-0.1-py3-none-any.whl size=10243 sha256=f0b10f077d4d7f4b936754b6f75997716099263ce0901e34b5062bcf2826ab73\n",
            "  Stored in directory: /tmp/pip-ephem-wheel-cache-tyam0qov/wheels/64/4e/73/5139e517b726eef51b1f37eab1e4f14835bf231fec340ab437\n",
            "Successfully built wavelets\n",
            "Installing collected packages: wavelets\n",
            "Successfully installed wavelets-0.1\n"
          ]
        }
      ]
    },
    {
      "cell_type": "code",
      "metadata": {
        "id": "Bzs-w-1A5BOe",
        "colab": {
          "base_uri": "https://localhost:8080/"
        },
        "outputId": "98539de5-687f-48e5-ee7a-7f1ea886479c"
      },
      "source": [
        "pip install git+git://github.com/alok-ai-lab/DeepInsight.git#egg=DeepInsight"
      ],
      "execution_count": null,
      "outputs": [
        {
          "output_type": "stream",
          "name": "stdout",
          "text": [
            "Collecting DeepInsight\n",
            "  Cloning git://github.com/alok-ai-lab/DeepInsight.git to /tmp/pip-install-j0muebh0/deepinsight_3a860f94f50e4389b184683be2548b8c\n",
            "  Running command git clone -q git://github.com/alok-ai-lab/DeepInsight.git /tmp/pip-install-j0muebh0/deepinsight_3a860f94f50e4389b184683be2548b8c\n",
            "Requirement already satisfied: scikit-learn>=0.22 in /usr/local/lib/python3.7/dist-packages (from DeepInsight) (0.22.2.post1)\n",
            "Requirement already satisfied: pandas in /usr/local/lib/python3.7/dist-packages (from DeepInsight) (1.1.5)\n",
            "Requirement already satisfied: joblib>=0.11 in /usr/local/lib/python3.7/dist-packages (from scikit-learn>=0.22->DeepInsight) (1.0.1)\n",
            "Requirement already satisfied: scipy>=0.17.0 in /usr/local/lib/python3.7/dist-packages (from scikit-learn>=0.22->DeepInsight) (1.4.1)\n",
            "Requirement already satisfied: numpy>=1.11.0 in /usr/local/lib/python3.7/dist-packages (from scikit-learn>=0.22->DeepInsight) (1.19.5)\n",
            "Requirement already satisfied: pytz>=2017.2 in /usr/local/lib/python3.7/dist-packages (from pandas->DeepInsight) (2018.9)\n",
            "Requirement already satisfied: python-dateutil>=2.7.3 in /usr/local/lib/python3.7/dist-packages (from pandas->DeepInsight) (2.8.2)\n",
            "Requirement already satisfied: six>=1.5 in /usr/local/lib/python3.7/dist-packages (from python-dateutil>=2.7.3->pandas->DeepInsight) (1.15.0)\n",
            "Building wheels for collected packages: DeepInsight\n",
            "  Building wheel for DeepInsight (setup.py) ... \u001b[?25l\u001b[?25hdone\n",
            "  Created wheel for DeepInsight: filename=DeepInsight-0.1.0-py3-none-any.whl size=17216 sha256=f8c734c81f56667b65583001ae3b6c20e20dfe719ff08bd00d24ff989edffd5c\n",
            "  Stored in directory: /tmp/pip-ephem-wheel-cache-e583ese5/wheels/e4/bc/9d/c483e2a4902573f36c6a2a2e90e247662dada37685d34c1a58\n",
            "Successfully built DeepInsight\n",
            "Installing collected packages: DeepInsight\n",
            "  Attempting uninstall: DeepInsight\n",
            "    Found existing installation: deepinsight 0.5\n",
            "    Can't uninstall 'deepinsight'. No files were found to uninstall.\n",
            "Successfully installed DeepInsight-0.1.0\n"
          ]
        }
      ]
    },
    {
      "cell_type": "code",
      "metadata": {
        "id": "KVreRDR-1Re8"
      },
      "source": [
        "from pyDeepInsight import ImageTransformer, LogScaler\n",
        "import seaborn as sns\n",
        "import matplotlib.pyplot as plt\n",
        "import cv2"
      ],
      "execution_count": null,
      "outputs": []
    },
    {
      "cell_type": "code",
      "metadata": {
        "colab": {
          "base_uri": "https://localhost:8080/"
        },
        "id": "pVt57sjiJPXw",
        "outputId": "e2f6762d-04da-4e15-ed70-6e61ca5053e0"
      },
      "source": [
        "from google.colab import drive\n",
        "drive.mount('/content/drive')"
      ],
      "execution_count": null,
      "outputs": [
        {
          "output_type": "stream",
          "name": "stdout",
          "text": [
            "Go to this URL in a browser: https://accounts.google.com/o/oauth2/auth?client_id=947318989803-6bn6qk8qdgf4n4g3pfee6491hc0brc4i.apps.googleusercontent.com&redirect_uri=urn%3aietf%3awg%3aoauth%3a2.0%3aoob&scope=email%20https%3a%2f%2fwww.googleapis.com%2fauth%2fdocs.test%20https%3a%2f%2fwww.googleapis.com%2fauth%2fdrive%20https%3a%2f%2fwww.googleapis.com%2fauth%2fdrive.photos.readonly%20https%3a%2f%2fwww.googleapis.com%2fauth%2fpeopleapi.readonly%20https%3a%2f%2fwww.googleapis.com%2fauth%2fdrive.activity.readonly%20https%3a%2f%2fwww.googleapis.com%2fauth%2fexperimentsandconfigs%20https%3a%2f%2fwww.googleapis.com%2fauth%2fphotos.native&response_type=code\n",
            "\n",
            "Enter your authorization code:\n",
            "4/1AX4XfWh6A0WLjsyBh1e_ZfZuCsSTPXkMNmpVs5gKb3Ewm5GlBgRUEANrL8Y\n",
            "Mounted at /content/drive\n"
          ]
        }
      ]
    },
    {
      "cell_type": "markdown",
      "metadata": {
        "id": "aie8ffw_CTSS"
      },
      "source": [
        "**LOADING THE DATASET AND SPLITTING IT TO TRAIN AND TEST SETS**"
      ]
    },
    {
      "cell_type": "code",
      "metadata": {
        "id": "9jZl-t3aJu4J"
      },
      "source": [
        "import pandas as pd\n",
        "import numpy as np"
      ],
      "execution_count": null,
      "outputs": []
    },
    {
      "cell_type": "code",
      "metadata": {
        "id": "ueyr-9z92pbL"
      },
      "source": [
        "train = pd.read_csv('/content/drive/MyDrive/FYP /DATASETS /cnn_data/train_cnn.csv')\n",
        "test = pd.read_csv('/content/drive/MyDrive/FYP /DATASETS /cnn_data/test_cnn.csv')"
      ],
      "execution_count": null,
      "outputs": []
    },
    {
      "cell_type": "code",
      "metadata": {
        "id": "C4FyP_Si4L2k"
      },
      "source": [
        "x_train = train.iloc[:, 0:77].values\n",
        "y_train = train.iloc[:, 77].values"
      ],
      "execution_count": null,
      "outputs": []
    },
    {
      "cell_type": "code",
      "metadata": {
        "id": "QstDHqJD4amk"
      },
      "source": [
        "x_test= test.iloc[:, 0:77].values\n",
        "y_test = test.iloc[:, 77].values"
      ],
      "execution_count": null,
      "outputs": []
    },
    {
      "cell_type": "code",
      "metadata": {
        "colab": {
          "base_uri": "https://localhost:8080/",
          "height": 298
        },
        "id": "uPOw-CLsxHa0",
        "outputId": "e2403a73-9ec5-4af9-da22-652818500ea4"
      },
      "source": [
        "import matplotlib.pyplot as plt\n",
        "output_count = train['output'].value_counts()\n",
        "output_count.plot(kind='barh', color='#2098A5')\n",
        "plt.legend(['0 - Benign 1 - Attack'], loc='lower right')\n",
        "plt.title('CNN - Train set distribution visualization')"
      ],
      "execution_count": null,
      "outputs": [
        {
          "output_type": "execute_result",
          "data": {
            "text/plain": [
              "Text(0.5, 1.0, 'CNN - Train set distribution visualization')"
            ]
          },
          "metadata": {},
          "execution_count": 11
        },
        {
          "output_type": "display_data",
          "data": {
            "image/png": "[encoded data removed]",
            "text/plain": [
              "<Figure size 432x288 with 1 Axes>"
            ]
          },
          "metadata": {
            "needs_background": "light"
          }
        }
      ]
    },
    {
      "cell_type": "code",
      "metadata": {
        "colab": {
          "base_uri": "https://localhost:8080/",
          "height": 298
        },
        "id": "W9pJmzG0y2_t",
        "outputId": "1943b63a-c1d6-4542-e22b-81a1dfb7f092"
      },
      "source": [
        "import matplotlib.pyplot as plt\n",
        "output_count = test['output'].value_counts()\n",
        "output_count.plot(kind='barh', color='#738FC1')\n",
        "plt.legend(['0 - Benign 1 - Attack'], loc='lower right')\n",
        "plt.title('CNN - Test set distribution visualization')"
      ],
      "execution_count": null,
      "outputs": [
        {
          "output_type": "execute_result",
          "data": {
            "text/plain": [
              "Text(0.5, 1.0, 'CNN - Test set distribution visualization')"
            ]
          },
          "metadata": {},
          "execution_count": 9
        },
        {
          "output_type": "display_data",
          "data": {
            "image/png": "[encoded data removed]",
            "text/plain": [
              "<Figure size 432x288 with 1 Axes>"
            ]
          },
          "metadata": {
            "needs_background": "light"
          }
        }
      ]
    },
    {
      "cell_type": "code",
      "metadata": {
        "colab": {
          "base_uri": "https://localhost:8080/"
        },
        "id": "vX9YZBm91iz9",
        "outputId": "601e8f7a-8e4b-47ad-ad4d-e41aa691429b"
      },
      "source": [
        "x_train.shape"
      ],
      "execution_count": null,
      "outputs": [
        {
          "output_type": "execute_result",
          "data": {
            "text/plain": [
              "(14000, 77)"
            ]
          },
          "metadata": {},
          "execution_count": 136
        }
      ]
    },
    {
      "cell_type": "code",
      "metadata": {
        "colab": {
          "base_uri": "https://localhost:8080/"
        },
        "id": "mjUjpsZF2XKY",
        "outputId": "4e320ecc-b360-4c1d-f5e7-1c633508ff17"
      },
      "source": [
        "y_train.value_counts()"
      ],
      "execution_count": null,
      "outputs": [
        {
          "output_type": "execute_result",
          "data": {
            "text/plain": [
              "1    7000\n",
              "0    7000\n",
              "Name: output, dtype: int64"
            ]
          },
          "metadata": {},
          "execution_count": 138
        }
      ]
    },
    {
      "cell_type": "code",
      "metadata": {
        "colab": {
          "base_uri": "https://localhost:8080/"
        },
        "id": "swd-aMbB1lhg",
        "outputId": "5738bef9-a0da-4978-fa58-bc57092c3654"
      },
      "source": [
        "x_test.shape"
      ],
      "execution_count": null,
      "outputs": [
        {
          "output_type": "execute_result",
          "data": {
            "text/plain": [
              "(6000, 77)"
            ]
          },
          "metadata": {},
          "execution_count": 139
        }
      ]
    },
    {
      "cell_type": "code",
      "metadata": {
        "colab": {
          "base_uri": "https://localhost:8080/"
        },
        "id": "5TswHABO1xrv",
        "outputId": "1e7c8f3e-7b78-4160-f2bc-57a40ae21ff5"
      },
      "source": [
        "y_test.value_counts()"
      ],
      "execution_count": null,
      "outputs": [
        {
          "output_type": "execute_result",
          "data": {
            "text/plain": [
              "1    3000\n",
              "0    3000\n",
              "Name: output, dtype: int64"
            ]
          },
          "metadata": {},
          "execution_count": 140
        }
      ]
    },
    {
      "cell_type": "markdown",
      "metadata": {
        "id": "8_cvxWkdaJjy"
      },
      "source": [
        "**NORMALIZATION WITH LOG SCALER**"
      ]
    },
    {
      "cell_type": "code",
      "metadata": {
        "id": "3jVs0u5DCxSt"
      },
      "source": [
        "ls = LogScaler() #normalizes data within the range 0 and 1\n",
        "x_train = ls.fit_transform(x_train)\n",
        "x_test = ls.transform(x_test)"
      ],
      "execution_count": null,
      "outputs": []
    },
    {
      "cell_type": "markdown",
      "metadata": {
        "id": "5CBKpj714kB9"
      },
      "source": [
        "**TRANSFORMATION**"
      ]
    },
    {
      "cell_type": "code",
      "metadata": {
        "id": "3CgJjWJ1Dcsa"
      },
      "source": [
        "image_transformer = ImageTransformer(feature_extractor='tsne',\n",
        "                      pixels=20, random_state=0,\n",
        "                      n_jobs=-1)\n",
        "\n",
        "# Transform features to an image matrix using dimensionality reduction\n",
        "# This class takes in data normalized between 0 and 1 and converts it to a\n",
        "# CNN compatible 'image' matrix"
      ],
      "execution_count": null,
      "outputs": []
    },
    {
      "cell_type": "markdown",
      "metadata": {
        "id": "xSs5ylHKaGbO"
      },
      "source": [
        "**CONVEX HULL ALGORITHM**"
      ]
    },
    {
      "cell_type": "code",
      "metadata": {
        "colab": {
          "base_uri": "https://localhost:8080/",
          "height": 328
        },
        "id": "yyqXzsZYECLW",
        "outputId": "a437d321-cd8c-4bb6-832a-4a406054ff2c"
      },
      "source": [
        "from sklearn.manifold import TSNE\n",
        "tsne = TSNE(n_components=2, perplexity=30, metric='cosine',\n",
        "            random_state=0)\n",
        "image_transformer = ImageTransformer(feature_extractor=tsne, pixels=20)\n",
        "\n",
        "plt.figure(figsize=(5, 5))\n",
        "image_transformer.fit(x_train, plot=True)\n",
        "\n",
        "#pixel count determines the image resolution\n",
        "#features do not overlap and the neighbouring relationship between the features are preserved\n",
        "#cosine was chosen as the default metirc (Euclidean) leads to feature overlapping and outlier formation\n",
        "# with perplexity of 5 outliers are formed and features are far apart"
      ],
      "execution_count": null,
      "outputs": [
        {
          "output_type": "display_data",
          "data": {
            "image/png": "[encoded data removed]",
            "text/plain": [
              "<Figure size 360x360 with 1 Axes>"
            ]
          },
          "metadata": {
            "needs_background": "light"
          }
        },
        {
          "output_type": "execute_result",
          "data": {
            "text/plain": [
              "<pyDeepInsight.image_transformer.ImageTransformer at 0x7f99684d5b90>"
            ]
          },
          "metadata": {},
          "execution_count": 12
        }
      ]
    },
    {
      "cell_type": "markdown",
      "metadata": {
        "id": "XNNhadppbLax"
      },
      "source": [
        "**FEATURE MAP VISUALIZATION**"
      ]
    },
    {
      "cell_type": "code",
      "metadata": {
        "colab": {
          "base_uri": "https://localhost:8080/",
          "height": 330
        },
        "id": "Hm44t5vM0AuX",
        "outputId": "8d629497-0851-4005-91c0-abe88b249950"
      },
      "source": [
        "fdm = image_transformer.feature_density_matrix()\n",
        "plt.figure(figsize=(5, 5))\n",
        "feature_map = sns.heatmap(fdm, cmap=\"viridis\", linewidths=0.01, linecolor=\"lightgrey\", square=True)\n",
        "plt.title(\"Feature per pixel\")\n",
        "# resolution - pixel count 20 (chosen)\n",
        "# none of the 77 features overlap\n",
        "# feature_map - feature map is mapped into this variable for transformation of train/test sets"
      ],
      "execution_count": null,
      "outputs": [
        {
          "output_type": "execute_result",
          "data": {
            "text/plain": [
              "Text(0.5, 1.0, 'Feature per pixel')"
            ]
          },
          "metadata": {},
          "execution_count": 12
        },
        {
          "output_type": "display_data",
          "data": {
            "image/png": "[encoded data removed]",
            "text/plain": [
              "<Figure size 360x360 with 2 Axes>"
            ]
          },
          "metadata": {
            "needs_background": "light"
          }
        }
      ]
    },
    {
      "cell_type": "markdown",
      "metadata": {
        "id": "uw-4P7bBhlVa"
      },
      "source": [
        "**TRANSFORMING TABULAR SAMPLES TO IMAGE SAMPLES**"
      ]
    },
    {
      "cell_type": "code",
      "metadata": {
        "id": "47sTN85thpOe"
      },
      "source": [
        "train_image_samples = image_transformer.fit_transform(x_train)\n",
        "test_image_samples = image_transformer.transform(x_test)"
      ],
      "execution_count": null,
      "outputs": []
    },
    {
      "cell_type": "code",
      "metadata": {
        "colab": {
          "base_uri": "https://localhost:8080/"
        },
        "id": "tmYcqENyAr8g",
        "outputId": "5cac09a1-c373-4e57-ffb8-de1421453ffa"
      },
      "source": [
        "train_image_samples.shape"
      ],
      "execution_count": null,
      "outputs": [
        {
          "output_type": "execute_result",
          "data": {
            "text/plain": [
              "(14000, 20, 20, 3)"
            ]
          },
          "metadata": {},
          "execution_count": 146
        }
      ]
    },
    {
      "cell_type": "code",
      "metadata": {
        "colab": {
          "base_uri": "https://localhost:8080/"
        },
        "id": "kgRU9qkxBHbd",
        "outputId": "a98ae3d5-64ea-42c5-cdcc-5a535db85f29"
      },
      "source": [
        "test_image_samples.shape"
      ],
      "execution_count": null,
      "outputs": [
        {
          "output_type": "execute_result",
          "data": {
            "text/plain": [
              "(6000, 20, 20, 3)"
            ]
          },
          "metadata": {},
          "execution_count": 99
        }
      ]
    },
    {
      "cell_type": "code",
      "metadata": {
        "colab": {
          "base_uri": "https://localhost:8080/"
        },
        "id": "ekK8aMyGg7qf",
        "outputId": "02dffbce-c556-45b9-bab4-5012d098796a"
      },
      "source": [
        "y_train.shape"
      ],
      "execution_count": null,
      "outputs": [
        {
          "output_type": "execute_result",
          "data": {
            "text/plain": [
              "(14000,)"
            ]
          },
          "metadata": {},
          "execution_count": 108
        }
      ]
    },
    {
      "cell_type": "code",
      "metadata": {
        "colab": {
          "base_uri": "https://localhost:8080/",
          "height": 282
        },
        "id": "-wmJaOefF3Jy",
        "outputId": "f1d60459-67ec-4a72-ec2a-1344636427bc"
      },
      "source": [
        "plt.imshow(train_image_samples[0])\n",
        "train_image_samples[0].shape"
      ],
      "execution_count": null,
      "outputs": [
        {
          "output_type": "execute_result",
          "data": {
            "text/plain": [
              "(20, 20, 3)"
            ]
          },
          "metadata": {},
          "execution_count": 100
        },
        {
          "output_type": "display_data",
          "data": {
            "image/png": "[encoded data removed]",
            "text/plain": [
              "<Figure size 432x288 with 1 Axes>"
            ]
          },
          "metadata": {
            "needs_background": "light"
          }
        }
      ]
    },
    {
      "cell_type": "markdown",
      "metadata": {
        "id": "ffo5mNFsLtC0"
      },
      "source": [
        "**TEST AND TRAIN IMAGE EXPLORATION**"
      ]
    },
    {
      "cell_type": "code",
      "metadata": {
        "id": "-vs_ZL4ZIznL"
      },
      "source": [
        "classes = ['CLASS - BENIGN', 'CLASS - ATTACK']\n",
        "\n",
        "def plot_sample(x, y, index):\n",
        "  plt.figure(figsize=(5,5))\n",
        "  plt.imshow(x[index])\n",
        "  plt.xlabel(classes[y[index]])"
      ],
      "execution_count": null,
      "outputs": []
    },
    {
      "cell_type": "code",
      "metadata": {
        "colab": {
          "base_uri": "https://localhost:8080/",
          "height": 651
        },
        "id": "HA7F1-dbI063",
        "outputId": "8cdf1fc2-5be3-4dbe-9d05-34cfb180cf9e"
      },
      "source": [
        "plot_sample(train_image_samples, y_train, 0)\n",
        "plot_sample(train_image_samples, y_train, 2)"
      ],
      "execution_count": null,
      "outputs": [
        {
          "output_type": "display_data",
          "data": {
            "image/png": "[encoded data removed]",
            "text/plain": [
              "<Figure size 360x360 with 1 Axes>"
            ]
          },
          "metadata": {
            "needs_background": "light"
          }
        },
        {
          "output_type": "display_data",
          "data": {
            "image/png": "[encoded data removed]",
            "text/plain": [
              "<Figure size 360x360 with 1 Axes>"
            ]
          },
          "metadata": {
            "needs_background": "light"
          }
        }
      ]
    },
    {
      "cell_type": "code",
      "metadata": {
        "colab": {
          "base_uri": "https://localhost:8080/",
          "height": 651
        },
        "id": "KfSJ1FiULLdw",
        "outputId": "b3b032c5-df3c-4225-ee69-173e2b05876d"
      },
      "source": [
        "plot_sample(test_image_samples, y_test, 0)\n",
        "plot_sample(test_image_samples, y_test, 2)"
      ],
      "execution_count": null,
      "outputs": [
        {
          "output_type": "display_data",
          "data": {
            "image/png": "[encoded data removed]",
            "text/plain": [
              "<Figure size 360x360 with 1 Axes>"
            ]
          },
          "metadata": {
            "needs_background": "light"
          }
        },
        {
          "output_type": "display_data",
          "data": {
            "image/png": "[encoded data removed]",
            "text/plain": [
              "<Figure size 360x360 with 1 Axes>"
            ]
          },
          "metadata": {
            "needs_background": "light"
          }
        }
      ]
    },
    {
      "cell_type": "markdown",
      "metadata": {
        "id": "EQjnT9vst8LC"
      },
      "source": [
        "**MODEL TRAINING**"
      ]
    },
    {
      "cell_type": "code",
      "metadata": {
        "id": "9Fsgj5KCG71p"
      },
      "source": [
        "import tensorflow as tf\n",
        "from tensorflow.keras.callbacks import History"
      ],
      "execution_count": null,
      "outputs": []
    },
    {
      "cell_type": "code",
      "metadata": {
        "id": "WaLJfiexILoO"
      },
      "source": [
        "from tensorflow.keras import datasets, layers, models\n",
        "cnn = tf.keras.models.Sequential([\n",
        "\n",
        "                  # CNN\n",
        "                  layers.Conv2D(filters=32, kernel_size=(3,3), activation='relu', input_shape=(20,20,3)),\n",
        "                  layers.MaxPooling2D((2,2)),\n",
        "                  layers.Flatten(),\n",
        "\n",
        "                  # Fully connected layer\n",
        "                  layers.Dense(10, activation='relu'),\n",
        "\n",
        "                  # Output layer\n",
        "                  layers.Dense(1, activation='sigmoid')\n",
        "])\n",
        "\n",
        "cnn.compile(optimizer='adam', loss='binary_crossentropy', metrics=['accuracy'])\n",
        "History = cnn.fit(x=train_image_samples, y=y_train, validation_data=(test_image_samples, y_test), epochs=4)"
      ],
      "execution_count": null,
      "outputs": []
    },
    {
      "cell_type": "code",
      "metadata": {
        "colab": {
          "base_uri": "https://localhost:8080/",
          "height": 573
        },
        "id": "B1k8_82KsU-7",
        "outputId": "0138ea80-6152-4841-d7cc-58b0c47d8f56"
      },
      "source": [
        "import matplotlib.pyplot as plt\n",
        "\n",
        "#epoch count 10\n",
        "\n",
        "plt.plot(History.history['accuracy'], label='accuracy')\n",
        "plt.plot(History.history['val_accuracy'])\n",
        "plt.title('Model accuracy')\n",
        "plt.ylabel('Accuracy')\n",
        "plt.xlabel('Epochs')\n",
        "plt.legend(['Train', 'Test'], loc='upper left')\n",
        "plt.show()\n",
        "\n",
        "# summarize history for loss\n",
        "plt.plot(History.history['loss'])\n",
        "plt.plot(History.history['val_loss'])\n",
        "plt.title('Model loss')\n",
        "plt.ylabel('Loss')\n",
        "plt.xlabel('Epochs')\n",
        "plt.legend(['Train', 'Test'], loc='upper left')\n",
        "plt.show()"
      ],
      "execution_count": null,
      "outputs": [
        {
          "output_type": "display_data",
          "data": {
            "image/png": "[encoded data removed]",
            "text/plain": [
              "<Figure size 432x288 with 1 Axes>"
            ]
          },
          "metadata": {
            "needs_background": "light"
          }
        },
        {
          "output_type": "display_data",
          "data": {
            "image/png": "[encoded data removed]",
            "text/plain": [
              "<Figure size 432x288 with 1 Axes>"
            ]
          },
          "metadata": {
            "needs_background": "light"
          }
        }
      ]
    }
  ]
}